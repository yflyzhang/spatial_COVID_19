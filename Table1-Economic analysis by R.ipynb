{
 "cells": [
  {
   "cell_type": "code",
   "execution_count": 1,
   "metadata": {},
   "outputs": [
    {
     "name": "stderr",
     "output_type": "stream",
     "text": [
      "\n",
      "Attaching package: 'dplyr'\n",
      "\n",
      "The following objects are masked from 'package:stats':\n",
      "\n",
      "    filter, lag\n",
      "\n",
      "The following objects are masked from 'package:base':\n",
      "\n",
      "    intersect, setdiff, setequal, union\n",
      "\n",
      "Version:  1.37.5\n",
      "Date:     2020-06-17\n",
      "Author:   Philip Leifeld (University of Essex)\n",
      "\n",
      "Consider submitting praise using the praise or praise_interactive functions.\n",
      "Please cite the JSS article in your publications -- see citation(\"texreg\").\n"
     ]
    }
   ],
   "source": [
    "library(dplyr)\n",
    "library(readr)   # read csv file\n",
    "library(texreg)"
   ]
  },
  {
   "cell_type": "code",
   "execution_count": null,
   "metadata": {},
   "outputs": [],
   "source": []
  },
  {
   "cell_type": "code",
   "execution_count": null,
   "metadata": {},
   "outputs": [],
   "source": []
  },
  {
   "cell_type": "markdown",
   "metadata": {},
   "source": [
    "### <div class='info-circle alert alert-block alert-info'> Load combined data</div>"
   ]
  },
  {
   "cell_type": "code",
   "execution_count": 2,
   "metadata": {},
   "outputs": [
    {
     "name": "stderr",
     "output_type": "stream",
     "text": [
      "Parsed with column specification:\n",
      "cols(\n",
      "  .default = col_double(),\n",
      "  city_cn = col_character(),\n",
      "  city = col_character(),\n",
      "  province_cn = col_character(),\n",
      "  province = col_character(),\n",
      "  tier = col_character()\n",
      ")\n",
      "See spec(...) for full column specifications.\n"
     ]
    },
    {
     "data": {
      "text/html": [
       "<ol class=list-inline>\n",
       "\t<li>366</li>\n",
       "\t<li>97</li>\n",
       "</ol>\n"
      ],
      "text/latex": [
       "\\begin{enumerate*}\n",
       "\\item 366\n",
       "\\item 97\n",
       "\\end{enumerate*}\n"
      ],
      "text/markdown": [
       "1. 366\n",
       "2. 97\n",
       "\n",
       "\n"
      ],
      "text/plain": [
       "[1] 366  97"
      ]
     },
     "metadata": {},
     "output_type": "display_data"
    }
   ],
   "source": [
    "combined_df <- read_csv('Data/combined_data.csv')\n",
    "dim(combined_df)"
   ]
  },
  {
   "cell_type": "code",
   "execution_count": 3,
   "metadata": {},
   "outputs": [
    {
     "data": {
      "text/html": [
       "<table>\n",
       "<caption>A tibble: 6 × 97</caption>\n",
       "<thead>\n",
       "\t<tr><th scope=col>city_cn</th><th scope=col>city</th><th scope=col>city_id</th><th scope=col>province_cn</th><th scope=col>province</th><th scope=col>tier</th><th scope=col>lat</th><th scope=col>lng</th><th scope=col>population</th><th scope=col>GDP</th><th scope=col>...</th><th scope=col>date_0324</th><th scope=col>date_0325</th><th scope=col>date_0326</th><th scope=col>date_0327</th><th scope=col>date_0328</th><th scope=col>date_0329</th><th scope=col>date_0330</th><th scope=col>date_0331</th><th scope=col>date_0401</th><th scope=col>hubei_city</th></tr>\n",
       "\t<tr><th scope=col>&lt;chr&gt;</th><th scope=col>&lt;chr&gt;</th><th scope=col>&lt;dbl&gt;</th><th scope=col>&lt;chr&gt;</th><th scope=col>&lt;chr&gt;</th><th scope=col>&lt;chr&gt;</th><th scope=col>&lt;dbl&gt;</th><th scope=col>&lt;dbl&gt;</th><th scope=col>&lt;dbl&gt;</th><th scope=col>&lt;dbl&gt;</th><th scope=col>...</th><th scope=col>&lt;dbl&gt;</th><th scope=col>&lt;dbl&gt;</th><th scope=col>&lt;dbl&gt;</th><th scope=col>&lt;dbl&gt;</th><th scope=col>&lt;dbl&gt;</th><th scope=col>&lt;dbl&gt;</th><th scope=col>&lt;dbl&gt;</th><th scope=col>&lt;dbl&gt;</th><th scope=col>&lt;dbl&gt;</th><th scope=col>&lt;dbl&gt;</th></tr>\n",
       "</thead>\n",
       "<tbody>\n",
       "\t<tr><td>北京市  </td><td>Beijing     </td><td>110000</td><td>北京市</td><td>Beijing</td><td>Tier 1    </td><td>39.91092</td><td>116.4134</td><td>2153.60</td><td>35371.30</td><td>...</td><td>559</td><td>565</td><td>569</td><td>572</td><td>576</td><td>577</td><td>580</td><td>580</td><td>582</td><td>0</td></tr>\n",
       "\t<tr><td>天津市  </td><td>Tianjin     </td><td>120000</td><td>天津市</td><td>Tianjin</td><td>new Tier 1</td><td>39.09367</td><td>117.2095</td><td>1561.83</td><td>14104.00</td><td>...</td><td>145</td><td>147</td><td>152</td><td>156</td><td>163</td><td>166</td><td>174</td><td>174</td><td>176</td><td>0</td></tr>\n",
       "\t<tr><td>石家庄市</td><td>Shijiazhuang</td><td>130100</td><td>河北省</td><td>Hebei  </td><td>Tier 2    </td><td>38.04831</td><td>114.5215</td><td>1039.42</td><td> 5809.90</td><td>...</td><td> 29</td><td> 29</td><td> 29</td><td> 29</td><td> 29</td><td> 29</td><td> 29</td><td> 29</td><td> 29</td><td>0</td></tr>\n",
       "\t<tr><td>唐山市  </td><td>Tangshan    </td><td>130200</td><td>河北省</td><td>Hebei  </td><td>Tier 3    </td><td>39.63658</td><td>118.1865</td><td> 796.40</td><td> 6890.00</td><td>...</td><td> 58</td><td> 58</td><td> 58</td><td> 58</td><td> 58</td><td> 58</td><td> 58</td><td> 58</td><td> 58</td><td>0</td></tr>\n",
       "\t<tr><td>秦皇岛市</td><td>Qinhuangdao </td><td>130300</td><td>河北省</td><td>Hebei  </td><td>Tier 3    </td><td>39.94175</td><td>119.6085</td><td> 314.63</td><td> 1612.02</td><td>...</td><td> 10</td><td> 10</td><td> 10</td><td> 10</td><td> 10</td><td> 10</td><td> 10</td><td> 10</td><td> 10</td><td>0</td></tr>\n",
       "\t<tr><td>邯郸市  </td><td>Handan      </td><td>130400</td><td>河北省</td><td>Hebei  </td><td>Tier 3    </td><td>36.63126</td><td>114.5456</td><td> 954.97</td><td> 3486.00</td><td>...</td><td> 32</td><td> 32</td><td> 32</td><td> 32</td><td> 32</td><td> 32</td><td> 32</td><td> 32</td><td> 32</td><td>0</td></tr>\n",
       "</tbody>\n",
       "</table>\n"
      ],
      "text/latex": [
       "A tibble: 6 × 97\n",
       "\\begin{tabular}{r|lllllllllllllllllllllllllllllllllllllllllllllllllllllllllllllllllllllllllllllllllllllllllllllllll}\n",
       " city\\_cn & city & city\\_id & province\\_cn & province & tier & lat & lng & population & GDP & GDP\\_growth\\_2019 & GDP\\_2020Q1 & GDP\\_pc & GDP\\_growth\\_rate & city\\_tier1 & city\\_tier2 & city\\_tier3 & city\\_tier4 & city\\_tier5 & distance & local\\_flow & pagerank & mean\\_intensity & intensity\\_2019 & intensity\\_2020 & intensity\\_reduction & date\\_0123 & date\\_0124 & date\\_0125 & date\\_0126 & date\\_0127 & date\\_0128 & date\\_0129 & date\\_0130 & date\\_0131 & date\\_0201 & date\\_0202 & date\\_0203 & date\\_0204 & date\\_0205 & date\\_0206 & date\\_0207 & date\\_0208 & date\\_0209 & date\\_0210 & date\\_0211 & date\\_0212 & date\\_0213 & date\\_0214 & date\\_0215 & date\\_0216 & date\\_0217 & date\\_0218 & date\\_0219 & date\\_0220 & date\\_0221 & date\\_0222 & date\\_0223 & date\\_0224 & date\\_0225 & date\\_0226 & date\\_0227 & date\\_0228 & date\\_0229 & date\\_0301 & date\\_0302 & date\\_0303 & date\\_0304 & date\\_0305 & date\\_0306 & date\\_0307 & date\\_0308 & date\\_0309 & date\\_0310 & date\\_0311 & date\\_0312 & date\\_0313 & date\\_0314 & date\\_0315 & date\\_0316 & date\\_0317 & date\\_0318 & date\\_0319 & date\\_0320 & date\\_0321 & date\\_0322 & date\\_0323 & date\\_0324 & date\\_0325 & date\\_0326 & date\\_0327 & date\\_0328 & date\\_0329 & date\\_0330 & date\\_0331 & date\\_0401 & hubei\\_city\\\\\n",
       " <chr> & <chr> & <dbl> & <chr> & <chr> & <chr> & <dbl> & <dbl> & <dbl> & <dbl> & <dbl> & <dbl> & <dbl> & <dbl> & <dbl> & <dbl> & <dbl> & <dbl> & <dbl> & <dbl> & <dbl> & <dbl> & <dbl> & <dbl> & <dbl> & <dbl> & <dbl> & <dbl> & <dbl> & <dbl> & <dbl> & <dbl> & <dbl> & <dbl> & <dbl> & <dbl> & <dbl> & <dbl> & <dbl> & <dbl> & <dbl> & <dbl> & <dbl> & <dbl> & <dbl> & <dbl> & <dbl> & <dbl> & <dbl> & <dbl> & <dbl> & <dbl> & <dbl> & <dbl> & <dbl> & <dbl> & <dbl> & <dbl> & <dbl> & <dbl> & <dbl> & <dbl> & <dbl> & <dbl> & <dbl> & <dbl> & <dbl> & <dbl> & <dbl> & <dbl> & <dbl> & <dbl> & <dbl> & <dbl> & <dbl> & <dbl> & <dbl> & <dbl> & <dbl> & <dbl> & <dbl> & <dbl> & <dbl> & <dbl> & <dbl> & <dbl> & <dbl> & <dbl> & <dbl> & <dbl> & <dbl> & <dbl> & <dbl> & <dbl> & <dbl> & <dbl> & <dbl>\\\\\n",
       "\\hline\n",
       "\t 北京市   & Beijing      & 110000 & 北京市 & Beijing & Tier 1     & 39.91092 & 116.4134 & 2153.60 & 35371.30 & 6.1 & 7462.20 & 16.424266 & 0.8438706 & 1 & 0 & 0 & 0 & 0 & 1050.6402 & 184.353501 & 0.015574171 & 5.677559 & 331.9212 & 241.5429 & 90.3783 & 26 & 36 & 51 & 67 & 80 & 96 & 112 & 132 & 156 & 183 & 212 & 228 & 253 & 274 & 297 & 315 & 326 & 337 & 342 & 352 & 366 & 372 & 375 & 380 & 381 & 387 & 393 & 395 & 396 & 399 & 399 & 399 & 400 & 400 & 410 & 410 & 411 & 413 & 414 & 414 & 417 & 418 & 422 & 426 & 428 & 428 & 429 & 435 & 435 & 436 & 437 & 442 & 446 & 455 & 458 & 479 & 485 & 499 & 512 & 522 & 554 & 559 & 565 & 569 & 572 & 576 & 577 & 580 & 580 & 582 & 0\\\\\n",
       "\t 天津市   & Tianjin      & 120000 & 天津市 & Tianjin & new Tier 1 & 39.09367 & 117.2095 & 1561.83 & 14104.00 & 4.8 & 2874.35 &  9.030432 & 0.8151872 & 1 & 0 & 0 & 0 & 0 &  978.8402 &  30.484535 & 0.005574312 & 5.610923 & 356.6680 & 258.5126 & 98.1554 &  0 &  8 & 10 & 14 & 23 & 24 &  27 &  31 &  32 &  41 &  48 &  60 &  67 &  69 &  79 &  81 &  88 &  91 &  95 & 107 & 113 & 119 & 120 & 122 & 125 & 127 & 128 & 130 & 131 & 133 & 135 & 135 & 135 & 135 & 135 & 136 & 136 & 136 & 136 & 136 & 136 & 136 & 136 & 136 & 136 & 136 & 136 & 136 & 136 & 136 & 136 & 136 & 136 & 136 & 136 & 136 & 137 & 137 & 137 & 141 & 142 & 145 & 147 & 152 & 156 & 163 & 166 & 174 & 174 & 176 & 0\\\\\n",
       "\t 石家庄市 & Shijiazhuang & 130100 & 河北省 & Hebei   & Tier 2     & 38.04831 & 114.5215 & 1039.42 &  5809.90 & 6.7 & 1349.40 &  5.589560 & 0.9290349 & 0 & 1 & 0 & 0 & 0 &  826.6277 &  30.892180 & 0.005190617 & 5.479823 & 346.9245 & 260.6993 & 86.2252 &  1 &  4 &  5 &  7 &  9 & 10 &  11 &  11 &  12 &  13 &  16 &  21 &  21 &  24 &  24 &  24 &  24 &  25 &  27 &  27 &  27 &  27 &  27 &  28 &  28 &  28 &  28 &  28 &  28 &  29 &  29 &  29 &  29 &  29 &  29 &  29 &  29 &  29 &  29 &  29 &  29 &  29 &  29 &  29 &  29 &  29 &  29 &  29 &  29 &  29 &  29 &  29 &  29 &  29 &  29 &  29 &  29 &  29 &  29 &  29 &  29 &  29 &  29 &  29 &  29 &  29 &  29 &  29 &  29 &  29 & 0\\\\\n",
       "\t 唐山市   & Tangshan     & 130200 & 河北省 & Hebei   & Tier 3     & 39.63658 & 118.1865 &  796.40 &  6890.00 & 7.3 & 1375.20 &  8.651431 & 0.7983745 & 0 & 0 & 1 & 0 & 0 & 1062.8057 &   9.256908 & 0.002692226 & 5.583632 & 355.8822 & 288.3937 & 67.4885 &  0 &  0 &  0 &  0 &  1 &  3 &   3 &   7 &   8 &  11 &  11 &  11 &  12 &  17 &  19 &  23 &  27 &  28 &  31 &  33 &  35 &  43 &  46 &  51 &  51 &  51 &  55 &  56 &  57 &  57 &  58 &  58 &  58 &  58 &  58 &  58 &  58 &  58 &  58 &  58 &  58 &  58 &  58 &  58 &  58 &  58 &  58 &  58 &  58 &  58 &  58 &  58 &  58 &  58 &  58 &  58 &  58 &  58 &  58 &  58 &  58 &  58 &  58 &  58 &  58 &  58 &  58 &  58 &  58 &  58 & 0\\\\\n",
       "\t 秦皇岛市 & Qinhuangdao  & 130300 & 河北省 & Hebei   & Tier 3     & 39.94175 & 119.6085 &  314.63 &  1612.02 & 6.7 &  352.09 &  5.123542 & 0.8736616 & 0 & 0 & 1 & 0 & 0 & 1142.5763 &   4.230623 & 0.001596582 & 5.384295 & 333.1633 & 280.1461 & 53.0172 &  0 &  0 &  0 &  0 &  0 &  0 &   0 &   0 &   1 &   1 &   2 &   2 &   3 &   3 &   5 &   7 &   7 &   7 &   9 &   9 &   9 &   9 &  10 &  10 &  10 &  10 &  10 &  10 &  10 &  10 &  10 &  10 &  10 &  10 &  10 &  10 &  10 &  10 &  10 &  10 &  10 &  10 &  10 &  10 &  10 &  10 &  10 &  10 &  10 &  10 &  10 &  10 &  10 &  10 &  10 &  10 &  10 &  10 &  10 &  10 &  10 &  10 &  10 &  10 &  10 &  10 &  10 &  10 &  10 &  10 & 0\\\\\n",
       "\t 邯郸市   & Handan       & 130400 & 河北省 & Hebei   & Tier 3     & 36.63126 & 114.5456 &  954.97 &  3486.00 & 7.2 &  788.40 &  3.650376 & 0.9046472 & 0 & 0 & 1 & 0 & 0 &  669.4844 &  25.975888 & 0.003952657 & 5.281932 & 354.6887 & 277.3320 & 77.3567 &  0 &  0 &  2 &  2 &  4 &  4 &   6 &   7 &  10 &  11 &  11 &  14 &  14 &  18 &  22 &  26 &  27 &  27 &  27 &  29 &  31 &  31 &  31 &  31 &  31 &  31 &  31 &  31 &  31 &  31 &  32 &  32 &  32 &  32 &  32 &  32 &  32 &  32 &  32 &  32 &  32 &  32 &  32 &  32 &  32 &  32 &  32 &  32 &  32 &  32 &  32 &  32 &  32 &  32 &  32 &  32 &  32 &  32 &  32 &  32 &  32 &  32 &  32 &  32 &  32 &  32 &  32 &  32 &  32 &  32 & 0\\\\\n",
       "\\end{tabular}\n"
      ],
      "text/markdown": [
       "\n",
       "A tibble: 6 × 97\n",
       "\n",
       "| city_cn &lt;chr&gt; | city &lt;chr&gt; | city_id &lt;dbl&gt; | province_cn &lt;chr&gt; | province &lt;chr&gt; | tier &lt;chr&gt; | lat &lt;dbl&gt; | lng &lt;dbl&gt; | population &lt;dbl&gt; | GDP &lt;dbl&gt; | ... ... | date_0324 &lt;dbl&gt; | date_0325 &lt;dbl&gt; | date_0326 &lt;dbl&gt; | date_0327 &lt;dbl&gt; | date_0328 &lt;dbl&gt; | date_0329 &lt;dbl&gt; | date_0330 &lt;dbl&gt; | date_0331 &lt;dbl&gt; | date_0401 &lt;dbl&gt; | hubei_city &lt;dbl&gt; |\n",
       "|---|---|---|---|---|---|---|---|---|---|---|---|---|---|---|---|---|---|---|---|---|\n",
       "| 北京市   | Beijing      | 110000 | 北京市 | Beijing | Tier 1     | 39.91092 | 116.4134 | 2153.60 | 35371.30 | ... | 559 | 565 | 569 | 572 | 576 | 577 | 580 | 580 | 582 | 0 |\n",
       "| 天津市   | Tianjin      | 120000 | 天津市 | Tianjin | new Tier 1 | 39.09367 | 117.2095 | 1561.83 | 14104.00 | ... | 145 | 147 | 152 | 156 | 163 | 166 | 174 | 174 | 176 | 0 |\n",
       "| 石家庄市 | Shijiazhuang | 130100 | 河北省 | Hebei   | Tier 2     | 38.04831 | 114.5215 | 1039.42 |  5809.90 | ... |  29 |  29 |  29 |  29 |  29 |  29 |  29 |  29 |  29 | 0 |\n",
       "| 唐山市   | Tangshan     | 130200 | 河北省 | Hebei   | Tier 3     | 39.63658 | 118.1865 |  796.40 |  6890.00 | ... |  58 |  58 |  58 |  58 |  58 |  58 |  58 |  58 |  58 | 0 |\n",
       "| 秦皇岛市 | Qinhuangdao  | 130300 | 河北省 | Hebei   | Tier 3     | 39.94175 | 119.6085 |  314.63 |  1612.02 | ... |  10 |  10 |  10 |  10 |  10 |  10 |  10 |  10 |  10 | 0 |\n",
       "| 邯郸市   | Handan       | 130400 | 河北省 | Hebei   | Tier 3     | 36.63126 | 114.5456 |  954.97 |  3486.00 | ... |  32 |  32 |  32 |  32 |  32 |  32 |  32 |  32 |  32 | 0 |\n",
       "\n"
      ],
      "text/plain": [
       "  city_cn  city         city_id province_cn province tier       lat     \n",
       "1 北京市   Beijing      110000  北京市      Beijing  Tier 1     39.91092\n",
       "2 天津市   Tianjin      120000  天津市      Tianjin  new Tier 1 39.09367\n",
       "3 石家庄市 Shijiazhuang 130100  河北省      Hebei    Tier 2     38.04831\n",
       "4 唐山市   Tangshan     130200  河北省      Hebei    Tier 3     39.63658\n",
       "5 秦皇岛市 Qinhuangdao  130300  河北省      Hebei    Tier 3     39.94175\n",
       "6 邯郸市   Handan       130400  河北省      Hebei    Tier 3     36.63126\n",
       "  lng      population GDP      ... date_0324 date_0325 date_0326 date_0327\n",
       "1 116.4134 2153.60    35371.30 ... 559       565       569       572      \n",
       "2 117.2095 1561.83    14104.00 ... 145       147       152       156      \n",
       "3 114.5215 1039.42     5809.90 ...  29        29        29        29      \n",
       "4 118.1865  796.40     6890.00 ...  58        58        58        58      \n",
       "5 119.6085  314.63     1612.02 ...  10        10        10        10      \n",
       "6 114.5456  954.97     3486.00 ...  32        32        32        32      \n",
       "  date_0328 date_0329 date_0330 date_0331 date_0401 hubei_city\n",
       "1 576       577       580       580       582       0         \n",
       "2 163       166       174       174       176       0         \n",
       "3  29        29        29        29        29       0         \n",
       "4  58        58        58        58        58       0         \n",
       "5  10        10        10        10        10       0         \n",
       "6  32        32        32        32        32       0         "
      ]
     },
     "metadata": {},
     "output_type": "display_data"
    }
   ],
   "source": [
    "head(combined_df)"
   ]
  },
  {
   "cell_type": "code",
   "execution_count": 4,
   "metadata": {},
   "outputs": [
    {
     "data": {
      "text/plain": [
       "\n",
       "  0   1   2 \n",
       "349  16   1 "
      ]
     },
     "metadata": {},
     "output_type": "display_data"
    }
   ],
   "source": [
    "table(combined_df$hubei_city)"
   ]
  },
  {
   "cell_type": "code",
   "execution_count": null,
   "metadata": {},
   "outputs": [],
   "source": []
  },
  {
   "cell_type": "markdown",
   "metadata": {},
   "source": [
    "### <div class=\"alert alert-block alert-success\"> Regression Analysis </div>\n",
    "### Economic development"
   ]
  },
  {
   "cell_type": "markdown",
   "metadata": {},
   "source": [
    "GDP_growth_rate ~ log_GDP_pc + GDP_growth_2019 + log_cumulative_cases + city_in_hubei + intensity_2020 + intensity_reduction\n"
   ]
  },
  {
   "cell_type": "code",
   "execution_count": 5,
   "metadata": {},
   "outputs": [],
   "source": [
    "reg_df <- combined_df\n",
    "\n",
    "# cases on '2020-02-09'\n",
    "reg_df$cumulative_cases <- reg_df$date_0209\n",
    "\n",
    "reg_df <- reg_df %>% \n",
    "                mutate(city_in_hubei = ifelse(hubei_city==0, 0, 1)) %>%\n",
    "                mutate(log_GDP_pc = log(GDP_pc)) %>%\n",
    "                mutate(log_cumulative_cases = log(cumulative_cases+1))"
   ]
  },
  {
   "cell_type": "code",
   "execution_count": 6,
   "metadata": {},
   "outputs": [
    {
     "data": {
      "text/plain": [
       "\n",
       "Call:\n",
       "lm(formula = GDP_growth_rate ~ log_GDP_pc + GDP_growth_2019 + \n",
       "    log_cumulative_cases + city_in_hubei + intensity_2020 + intensity_reduction, \n",
       "    data = reg_df)\n",
       "\n",
       "Residuals:\n",
       "     Min       1Q   Median       3Q      Max \n",
       "-0.38150 -0.02929  0.00141  0.03462  0.20022 \n",
       "\n",
       "Coefficients:\n",
       "                       Estimate Std. Error t value Pr(>|t|)    \n",
       "(Intercept)           0.6365380  0.0400072  15.911  < 2e-16 ***\n",
       "log_GDP_pc            0.0396089  0.0079764   4.966 1.11e-06 ***\n",
       "GDP_growth_2019       0.0086114  0.0020097   4.285 2.42e-05 ***\n",
       "log_cumulative_cases  0.0008497  0.0030738   0.276  0.78239    \n",
       "city_in_hubei        -0.2509303  0.0234751 -10.689  < 2e-16 ***\n",
       "intensity_2020        0.0003268  0.0001057   3.093  0.00216 ** \n",
       "intensity_reduction  -0.0002981  0.0001301  -2.292  0.02255 *  \n",
       "---\n",
       "Signif. codes:  0 '***' 0.001 '**' 0.01 '*' 0.05 '.' 0.1 ' ' 1\n",
       "\n",
       "Residual standard error: 0.06801 on 323 degrees of freedom\n",
       "  (36 observations deleted due to missingness)\n",
       "Multiple R-squared:  0.4668,\tAdjusted R-squared:  0.4569 \n",
       "F-statistic: 47.13 on 6 and 323 DF,  p-value: < 2.2e-16\n"
      ]
     },
     "metadata": {},
     "output_type": "display_data"
    }
   ],
   "source": [
    "ols_model <- lm(GDP_growth_rate ~ \n",
    "                    log_GDP_pc + \n",
    "                    GDP_growth_2019 + \n",
    "                    log_cumulative_cases + \n",
    "                    city_in_hubei +\n",
    "                    intensity_2020 +\n",
    "                    intensity_reduction, \n",
    "              data = reg_df\n",
    "                   )\n",
    "\n",
    "summary(ols_model)"
   ]
  },
  {
   "cell_type": "code",
   "execution_count": null,
   "metadata": {},
   "outputs": [],
   "source": []
  },
  {
   "cell_type": "markdown",
   "metadata": {},
   "source": [
    "#### Hierarchical OLS regression on economic development"
   ]
  },
  {
   "cell_type": "code",
   "execution_count": 7,
   "metadata": {},
   "outputs": [],
   "source": [
    "reduced_model <- lm(GDP_growth_rate ~ log_GDP_pc + GDP_growth_2019 + log_cumulative_cases +\n",
    "                            intensity_2020+intensity_reduction,\n",
    "              data = reg_df\n",
    "            )"
   ]
  },
  {
   "cell_type": "code",
   "execution_count": 8,
   "metadata": {},
   "outputs": [
    {
     "data": {
      "text/plain": [
       "\n",
       "Call:\n",
       "lm(formula = GDP_growth_rate ~ log_GDP_pc + GDP_growth_2019 + \n",
       "    log_cumulative_cases + intensity_2020 + intensity_reduction, \n",
       "    data = reg_df)\n",
       "\n",
       "Residuals:\n",
       "     Min       1Q   Median       3Q      Max \n",
       "-0.38166 -0.03941  0.00716  0.04933  0.23545 \n",
       "\n",
       "Coefficients:\n",
       "                       Estimate Std. Error t value Pr(>|t|)    \n",
       "(Intercept)           0.6191739  0.0464383  13.333  < 2e-16 ***\n",
       "log_GDP_pc            0.0545220  0.0091234   5.976 6.02e-09 ***\n",
       "GDP_growth_2019       0.0064423  0.0023228   2.774  0.00587 ** \n",
       "log_cumulative_cases -0.0141815  0.0031752  -4.466 1.10e-05 ***\n",
       "intensity_2020        0.0004948  0.0001214   4.076 5.78e-05 ***\n",
       "intensity_reduction  -0.0004430  0.0001503  -2.948  0.00344 ** \n",
       "---\n",
       "Signif. codes:  0 '***' 0.001 '**' 0.01 '*' 0.05 '.' 0.1 ' ' 1\n",
       "\n",
       "Residual standard error: 0.07901 on 324 degrees of freedom\n",
       "  (36 observations deleted due to missingness)\n",
       "Multiple R-squared:  0.2782,\tAdjusted R-squared:  0.267 \n",
       "F-statistic: 24.97 on 5 and 324 DF,  p-value: < 2.2e-16\n"
      ]
     },
     "metadata": {},
     "output_type": "display_data"
    }
   ],
   "source": [
    "summary(reduced_model)"
   ]
  },
  {
   "cell_type": "code",
   "execution_count": null,
   "metadata": {},
   "outputs": [],
   "source": []
  },
  {
   "cell_type": "code",
   "execution_count": 9,
   "metadata": {},
   "outputs": [
    {
     "name": "stdout",
     "output_type": "stream",
     "text": [
      "\n",
      "\\begin{table}\n",
      "\\begin{center}\n",
      "\\begin{tabular}{l c c}\n",
      "\\hline\n",
      " & Model 1 & Model 2 \\\\\n",
      "\\hline\n",
      "(Intercept)            & $0.6192^{***}$  & $0.6365^{***}$  \\\\\n",
      "                       & $(0.0464)$      & $(0.0400)$      \\\\\n",
      "log\\_GDP\\_pc           & $0.0545^{***}$  & $0.0396^{***}$  \\\\\n",
      "                       & $(0.0091)$      & $(0.0080)$      \\\\\n",
      "GDP\\_growth\\_2019      & $0.0064^{**}$   & $0.0086^{***}$  \\\\\n",
      "                       & $(0.0023)$      & $(0.0020)$      \\\\\n",
      "log\\_cumulative\\_cases & $-0.0142^{***}$ & $0.0008$        \\\\\n",
      "                       & $(0.0032)$      & $(0.0031)$      \\\\\n",
      "intensity\\_2020        & $0.0005^{***}$  & $0.0003^{**}$   \\\\\n",
      "                       & $(0.0001)$      & $(0.0001)$      \\\\\n",
      "intensity\\_reduction   & $-0.0004^{**}$  & $-0.0003^{*}$   \\\\\n",
      "                       & $(0.0002)$      & $(0.0001)$      \\\\\n",
      "city\\_in\\_hubei        &                 & $-0.2509^{***}$ \\\\\n",
      "                       &                 & $(0.0235)$      \\\\\n",
      "\\hline\n",
      "R$^2$                  & $0.2782$        & $0.4668$        \\\\\n",
      "Adj. R$^2$             & $0.2670$        & $0.4569$        \\\\\n",
      "Num. obs.              & $330$           & $330$           \\\\\n",
      "\\hline\n",
      "\\multicolumn{3}{l}{\\scriptsize{$^{***}p<0.001$; $^{**}p<0.01$; $^{*}p<0.05$}}\n",
      "\\end{tabular}\n",
      "\\caption{Statistical models}\n",
      "\\label{table:coefficients}\n",
      "\\end{center}\n",
      "\\end{table}\n"
     ]
    }
   ],
   "source": [
    "print(texreg(list(reduced_model, ols_model), digits=4))"
   ]
  },
  {
   "cell_type": "code",
   "execution_count": null,
   "metadata": {},
   "outputs": [],
   "source": []
  },
  {
   "cell_type": "code",
   "execution_count": null,
   "metadata": {},
   "outputs": [],
   "source": []
  },
  {
   "cell_type": "code",
   "execution_count": null,
   "metadata": {},
   "outputs": [],
   "source": []
  },
  {
   "cell_type": "code",
   "execution_count": null,
   "metadata": {},
   "outputs": [],
   "source": []
  },
  {
   "cell_type": "code",
   "execution_count": null,
   "metadata": {},
   "outputs": [],
   "source": []
  },
  {
   "cell_type": "code",
   "execution_count": null,
   "metadata": {},
   "outputs": [],
   "source": []
  },
  {
   "cell_type": "code",
   "execution_count": null,
   "metadata": {},
   "outputs": [],
   "source": []
  }
 ],
 "metadata": {
  "kernelspec": {
   "display_name": "R",
   "language": "R",
   "name": "ir"
  },
  "language_info": {
   "codemirror_mode": "r",
   "file_extension": ".r",
   "mimetype": "text/x-r-source",
   "name": "R",
   "pygments_lexer": "r",
   "version": "3.5.3"
  }
 },
 "nbformat": 4,
 "nbformat_minor": 2
}
