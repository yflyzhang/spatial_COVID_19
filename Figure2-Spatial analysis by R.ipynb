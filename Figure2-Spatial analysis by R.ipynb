{
 "cells": [
  {
   "cell_type": "code",
   "execution_count": 1,
   "metadata": {},
   "outputs": [
    {
     "name": "stderr",
     "output_type": "stream",
     "text": [
      "\n",
      "Attaching package: 'dplyr'\n",
      "\n",
      "The following objects are masked from 'package:stats':\n",
      "\n",
      "    filter, lag\n",
      "\n",
      "The following objects are masked from 'package:base':\n",
      "\n",
      "    intersect, setdiff, setequal, union\n",
      "\n",
      "\n",
      "Attaching package: 'MASS'\n",
      "\n",
      "The following object is masked from 'package:dplyr':\n",
      "\n",
      "    select\n",
      "\n",
      "Version:  1.37.5\n",
      "Date:     2020-06-17\n",
      "Author:   Philip Leifeld (University of Essex)\n",
      "\n",
      "Consider submitting praise using the praise or praise_interactive functions.\n",
      "Please cite the JSS article in your publications -- see citation(\"texreg\").\n",
      "\n",
      "Attaching package: 'texreg'\n",
      "\n",
      "The following object is masked from 'package:tidyr':\n",
      "\n",
      "    extract\n",
      "\n"
     ]
    }
   ],
   "source": [
    "library(dplyr)\n",
    "library(MASS)    # for negative binomial regression\n",
    "library(tidyr)\n",
    "library(readr)   # read csv file\n",
    "library(texreg)"
   ]
  },
  {
   "cell_type": "code",
   "execution_count": null,
   "metadata": {},
   "outputs": [],
   "source": []
  },
  {
   "cell_type": "markdown",
   "metadata": {},
   "source": [
    "### <div class='info-circle alert alert-block alert-info'> Load combined data</div>"
   ]
  },
  {
   "cell_type": "code",
   "execution_count": 2,
   "metadata": {},
   "outputs": [
    {
     "name": "stderr",
     "output_type": "stream",
     "text": [
      "Parsed with column specification:\n",
      "cols(\n",
      "  .default = col_double(),\n",
      "  city_cn = col_character(),\n",
      "  city = col_character(),\n",
      "  province_cn = col_character(),\n",
      "  province = col_character(),\n",
      "  tier = col_character()\n",
      ")\n",
      "See spec(...) for full column specifications.\n"
     ]
    },
    {
     "data": {
      "text/html": [
       "<ol class=list-inline>\n",
       "\t<li>366</li>\n",
       "\t<li>97</li>\n",
       "</ol>\n"
      ],
      "text/latex": [
       "\\begin{enumerate*}\n",
       "\\item 366\n",
       "\\item 97\n",
       "\\end{enumerate*}\n"
      ],
      "text/markdown": [
       "1. 366\n",
       "2. 97\n",
       "\n",
       "\n"
      ],
      "text/plain": [
       "[1] 366  97"
      ]
     },
     "metadata": {},
     "output_type": "display_data"
    }
   ],
   "source": [
    "reg_df <- read_csv('Data/combined_data.csv')\n",
    "dim(reg_df)"
   ]
  },
  {
   "cell_type": "code",
   "execution_count": 3,
   "metadata": {},
   "outputs": [
    {
     "data": {
      "text/html": [
       "<table>\n",
       "<caption>A tibble: 6 × 97</caption>\n",
       "<thead>\n",
       "\t<tr><th scope=col>city_cn</th><th scope=col>city</th><th scope=col>city_id</th><th scope=col>province_cn</th><th scope=col>province</th><th scope=col>tier</th><th scope=col>lat</th><th scope=col>lng</th><th scope=col>population</th><th scope=col>GDP</th><th scope=col>...</th><th scope=col>date_0324</th><th scope=col>date_0325</th><th scope=col>date_0326</th><th scope=col>date_0327</th><th scope=col>date_0328</th><th scope=col>date_0329</th><th scope=col>date_0330</th><th scope=col>date_0331</th><th scope=col>date_0401</th><th scope=col>hubei_city</th></tr>\n",
       "\t<tr><th scope=col>&lt;chr&gt;</th><th scope=col>&lt;chr&gt;</th><th scope=col>&lt;dbl&gt;</th><th scope=col>&lt;chr&gt;</th><th scope=col>&lt;chr&gt;</th><th scope=col>&lt;chr&gt;</th><th scope=col>&lt;dbl&gt;</th><th scope=col>&lt;dbl&gt;</th><th scope=col>&lt;dbl&gt;</th><th scope=col>&lt;dbl&gt;</th><th scope=col>...</th><th scope=col>&lt;dbl&gt;</th><th scope=col>&lt;dbl&gt;</th><th scope=col>&lt;dbl&gt;</th><th scope=col>&lt;dbl&gt;</th><th scope=col>&lt;dbl&gt;</th><th scope=col>&lt;dbl&gt;</th><th scope=col>&lt;dbl&gt;</th><th scope=col>&lt;dbl&gt;</th><th scope=col>&lt;dbl&gt;</th><th scope=col>&lt;dbl&gt;</th></tr>\n",
       "</thead>\n",
       "<tbody>\n",
       "\t<tr><td>北京市  </td><td>Beijing     </td><td>110000</td><td>北京市</td><td>Beijing</td><td>Tier 1    </td><td>39.91092</td><td>116.4134</td><td>2153.60</td><td>35371.30</td><td>...</td><td>559</td><td>565</td><td>569</td><td>572</td><td>576</td><td>577</td><td>580</td><td>580</td><td>582</td><td>0</td></tr>\n",
       "\t<tr><td>天津市  </td><td>Tianjin     </td><td>120000</td><td>天津市</td><td>Tianjin</td><td>new Tier 1</td><td>39.09367</td><td>117.2095</td><td>1561.83</td><td>14104.00</td><td>...</td><td>145</td><td>147</td><td>152</td><td>156</td><td>163</td><td>166</td><td>174</td><td>174</td><td>176</td><td>0</td></tr>\n",
       "\t<tr><td>石家庄市</td><td>Shijiazhuang</td><td>130100</td><td>河北省</td><td>Hebei  </td><td>Tier 2    </td><td>38.04831</td><td>114.5215</td><td>1039.42</td><td> 5809.90</td><td>...</td><td> 29</td><td> 29</td><td> 29</td><td> 29</td><td> 29</td><td> 29</td><td> 29</td><td> 29</td><td> 29</td><td>0</td></tr>\n",
       "\t<tr><td>唐山市  </td><td>Tangshan    </td><td>130200</td><td>河北省</td><td>Hebei  </td><td>Tier 3    </td><td>39.63658</td><td>118.1865</td><td> 796.40</td><td> 6890.00</td><td>...</td><td> 58</td><td> 58</td><td> 58</td><td> 58</td><td> 58</td><td> 58</td><td> 58</td><td> 58</td><td> 58</td><td>0</td></tr>\n",
       "\t<tr><td>秦皇岛市</td><td>Qinhuangdao </td><td>130300</td><td>河北省</td><td>Hebei  </td><td>Tier 3    </td><td>39.94175</td><td>119.6085</td><td> 314.63</td><td> 1612.02</td><td>...</td><td> 10</td><td> 10</td><td> 10</td><td> 10</td><td> 10</td><td> 10</td><td> 10</td><td> 10</td><td> 10</td><td>0</td></tr>\n",
       "\t<tr><td>邯郸市  </td><td>Handan      </td><td>130400</td><td>河北省</td><td>Hebei  </td><td>Tier 3    </td><td>36.63126</td><td>114.5456</td><td> 954.97</td><td> 3486.00</td><td>...</td><td> 32</td><td> 32</td><td> 32</td><td> 32</td><td> 32</td><td> 32</td><td> 32</td><td> 32</td><td> 32</td><td>0</td></tr>\n",
       "</tbody>\n",
       "</table>\n"
      ],
      "text/latex": [
       "A tibble: 6 × 97\n",
       "\\begin{tabular}{r|lllllllllllllllllllllllllllllllllllllllllllllllllllllllllllllllllllllllllllllllllllllllllllllllll}\n",
       " city\\_cn & city & city\\_id & province\\_cn & province & tier & lat & lng & population & GDP & GDP\\_growth\\_2019 & GDP\\_2020Q1 & GDP\\_pc & GDP\\_growth\\_rate & city\\_tier1 & city\\_tier2 & city\\_tier3 & city\\_tier4 & city\\_tier5 & distance & local\\_flow & pagerank & mean\\_intensity & intensity\\_2019 & intensity\\_2020 & intensity\\_reduction & date\\_0123 & date\\_0124 & date\\_0125 & date\\_0126 & date\\_0127 & date\\_0128 & date\\_0129 & date\\_0130 & date\\_0131 & date\\_0201 & date\\_0202 & date\\_0203 & date\\_0204 & date\\_0205 & date\\_0206 & date\\_0207 & date\\_0208 & date\\_0209 & date\\_0210 & date\\_0211 & date\\_0212 & date\\_0213 & date\\_0214 & date\\_0215 & date\\_0216 & date\\_0217 & date\\_0218 & date\\_0219 & date\\_0220 & date\\_0221 & date\\_0222 & date\\_0223 & date\\_0224 & date\\_0225 & date\\_0226 & date\\_0227 & date\\_0228 & date\\_0229 & date\\_0301 & date\\_0302 & date\\_0303 & date\\_0304 & date\\_0305 & date\\_0306 & date\\_0307 & date\\_0308 & date\\_0309 & date\\_0310 & date\\_0311 & date\\_0312 & date\\_0313 & date\\_0314 & date\\_0315 & date\\_0316 & date\\_0317 & date\\_0318 & date\\_0319 & date\\_0320 & date\\_0321 & date\\_0322 & date\\_0323 & date\\_0324 & date\\_0325 & date\\_0326 & date\\_0327 & date\\_0328 & date\\_0329 & date\\_0330 & date\\_0331 & date\\_0401 & hubei\\_city\\\\\n",
       " <chr> & <chr> & <dbl> & <chr> & <chr> & <chr> & <dbl> & <dbl> & <dbl> & <dbl> & <dbl> & <dbl> & <dbl> & <dbl> & <dbl> & <dbl> & <dbl> & <dbl> & <dbl> & <dbl> & <dbl> & <dbl> & <dbl> & <dbl> & <dbl> & <dbl> & <dbl> & <dbl> & <dbl> & <dbl> & <dbl> & <dbl> & <dbl> & <dbl> & <dbl> & <dbl> & <dbl> & <dbl> & <dbl> & <dbl> & <dbl> & <dbl> & <dbl> & <dbl> & <dbl> & <dbl> & <dbl> & <dbl> & <dbl> & <dbl> & <dbl> & <dbl> & <dbl> & <dbl> & <dbl> & <dbl> & <dbl> & <dbl> & <dbl> & <dbl> & <dbl> & <dbl> & <dbl> & <dbl> & <dbl> & <dbl> & <dbl> & <dbl> & <dbl> & <dbl> & <dbl> & <dbl> & <dbl> & <dbl> & <dbl> & <dbl> & <dbl> & <dbl> & <dbl> & <dbl> & <dbl> & <dbl> & <dbl> & <dbl> & <dbl> & <dbl> & <dbl> & <dbl> & <dbl> & <dbl> & <dbl> & <dbl> & <dbl> & <dbl> & <dbl> & <dbl> & <dbl>\\\\\n",
       "\\hline\n",
       "\t 北京市   & Beijing      & 110000 & 北京市 & Beijing & Tier 1     & 39.91092 & 116.4134 & 2153.60 & 35371.30 & 6.1 & 7462.20 & 16.424266 & 0.8438706 & 1 & 0 & 0 & 0 & 0 & 1050.6402 & 184.353501 & 0.015574171 & 5.677559 & 331.9212 & 241.5429 & 90.3783 & 26 & 36 & 51 & 67 & 80 & 96 & 112 & 132 & 156 & 183 & 212 & 228 & 253 & 274 & 297 & 315 & 326 & 337 & 342 & 352 & 366 & 372 & 375 & 380 & 381 & 387 & 393 & 395 & 396 & 399 & 399 & 399 & 400 & 400 & 410 & 410 & 411 & 413 & 414 & 414 & 417 & 418 & 422 & 426 & 428 & 428 & 429 & 435 & 435 & 436 & 437 & 442 & 446 & 455 & 458 & 479 & 485 & 499 & 512 & 522 & 554 & 559 & 565 & 569 & 572 & 576 & 577 & 580 & 580 & 582 & 0\\\\\n",
       "\t 天津市   & Tianjin      & 120000 & 天津市 & Tianjin & new Tier 1 & 39.09367 & 117.2095 & 1561.83 & 14104.00 & 4.8 & 2874.35 &  9.030432 & 0.8151872 & 1 & 0 & 0 & 0 & 0 &  978.8402 &  30.484535 & 0.005574312 & 5.610923 & 356.6680 & 258.5126 & 98.1554 &  0 &  8 & 10 & 14 & 23 & 24 &  27 &  31 &  32 &  41 &  48 &  60 &  67 &  69 &  79 &  81 &  88 &  91 &  95 & 107 & 113 & 119 & 120 & 122 & 125 & 127 & 128 & 130 & 131 & 133 & 135 & 135 & 135 & 135 & 135 & 136 & 136 & 136 & 136 & 136 & 136 & 136 & 136 & 136 & 136 & 136 & 136 & 136 & 136 & 136 & 136 & 136 & 136 & 136 & 136 & 136 & 137 & 137 & 137 & 141 & 142 & 145 & 147 & 152 & 156 & 163 & 166 & 174 & 174 & 176 & 0\\\\\n",
       "\t 石家庄市 & Shijiazhuang & 130100 & 河北省 & Hebei   & Tier 2     & 38.04831 & 114.5215 & 1039.42 &  5809.90 & 6.7 & 1349.40 &  5.589560 & 0.9290349 & 0 & 1 & 0 & 0 & 0 &  826.6277 &  30.892180 & 0.005190617 & 5.479823 & 346.9245 & 260.6993 & 86.2252 &  1 &  4 &  5 &  7 &  9 & 10 &  11 &  11 &  12 &  13 &  16 &  21 &  21 &  24 &  24 &  24 &  24 &  25 &  27 &  27 &  27 &  27 &  27 &  28 &  28 &  28 &  28 &  28 &  28 &  29 &  29 &  29 &  29 &  29 &  29 &  29 &  29 &  29 &  29 &  29 &  29 &  29 &  29 &  29 &  29 &  29 &  29 &  29 &  29 &  29 &  29 &  29 &  29 &  29 &  29 &  29 &  29 &  29 &  29 &  29 &  29 &  29 &  29 &  29 &  29 &  29 &  29 &  29 &  29 &  29 & 0\\\\\n",
       "\t 唐山市   & Tangshan     & 130200 & 河北省 & Hebei   & Tier 3     & 39.63658 & 118.1865 &  796.40 &  6890.00 & 7.3 & 1375.20 &  8.651431 & 0.7983745 & 0 & 0 & 1 & 0 & 0 & 1062.8057 &   9.256908 & 0.002692226 & 5.583632 & 355.8822 & 288.3937 & 67.4885 &  0 &  0 &  0 &  0 &  1 &  3 &   3 &   7 &   8 &  11 &  11 &  11 &  12 &  17 &  19 &  23 &  27 &  28 &  31 &  33 &  35 &  43 &  46 &  51 &  51 &  51 &  55 &  56 &  57 &  57 &  58 &  58 &  58 &  58 &  58 &  58 &  58 &  58 &  58 &  58 &  58 &  58 &  58 &  58 &  58 &  58 &  58 &  58 &  58 &  58 &  58 &  58 &  58 &  58 &  58 &  58 &  58 &  58 &  58 &  58 &  58 &  58 &  58 &  58 &  58 &  58 &  58 &  58 &  58 &  58 & 0\\\\\n",
       "\t 秦皇岛市 & Qinhuangdao  & 130300 & 河北省 & Hebei   & Tier 3     & 39.94175 & 119.6085 &  314.63 &  1612.02 & 6.7 &  352.09 &  5.123542 & 0.8736616 & 0 & 0 & 1 & 0 & 0 & 1142.5763 &   4.230623 & 0.001596582 & 5.384295 & 333.1633 & 280.1461 & 53.0172 &  0 &  0 &  0 &  0 &  0 &  0 &   0 &   0 &   1 &   1 &   2 &   2 &   3 &   3 &   5 &   7 &   7 &   7 &   9 &   9 &   9 &   9 &  10 &  10 &  10 &  10 &  10 &  10 &  10 &  10 &  10 &  10 &  10 &  10 &  10 &  10 &  10 &  10 &  10 &  10 &  10 &  10 &  10 &  10 &  10 &  10 &  10 &  10 &  10 &  10 &  10 &  10 &  10 &  10 &  10 &  10 &  10 &  10 &  10 &  10 &  10 &  10 &  10 &  10 &  10 &  10 &  10 &  10 &  10 &  10 & 0\\\\\n",
       "\t 邯郸市   & Handan       & 130400 & 河北省 & Hebei   & Tier 3     & 36.63126 & 114.5456 &  954.97 &  3486.00 & 7.2 &  788.40 &  3.650376 & 0.9046472 & 0 & 0 & 1 & 0 & 0 &  669.4844 &  25.975888 & 0.003952657 & 5.281932 & 354.6887 & 277.3320 & 77.3567 &  0 &  0 &  2 &  2 &  4 &  4 &   6 &   7 &  10 &  11 &  11 &  14 &  14 &  18 &  22 &  26 &  27 &  27 &  27 &  29 &  31 &  31 &  31 &  31 &  31 &  31 &  31 &  31 &  31 &  31 &  32 &  32 &  32 &  32 &  32 &  32 &  32 &  32 &  32 &  32 &  32 &  32 &  32 &  32 &  32 &  32 &  32 &  32 &  32 &  32 &  32 &  32 &  32 &  32 &  32 &  32 &  32 &  32 &  32 &  32 &  32 &  32 &  32 &  32 &  32 &  32 &  32 &  32 &  32 &  32 & 0\\\\\n",
       "\\end{tabular}\n"
      ],
      "text/markdown": [
       "\n",
       "A tibble: 6 × 97\n",
       "\n",
       "| city_cn &lt;chr&gt; | city &lt;chr&gt; | city_id &lt;dbl&gt; | province_cn &lt;chr&gt; | province &lt;chr&gt; | tier &lt;chr&gt; | lat &lt;dbl&gt; | lng &lt;dbl&gt; | population &lt;dbl&gt; | GDP &lt;dbl&gt; | ... ... | date_0324 &lt;dbl&gt; | date_0325 &lt;dbl&gt; | date_0326 &lt;dbl&gt; | date_0327 &lt;dbl&gt; | date_0328 &lt;dbl&gt; | date_0329 &lt;dbl&gt; | date_0330 &lt;dbl&gt; | date_0331 &lt;dbl&gt; | date_0401 &lt;dbl&gt; | hubei_city &lt;dbl&gt; |\n",
       "|---|---|---|---|---|---|---|---|---|---|---|---|---|---|---|---|---|---|---|---|---|\n",
       "| 北京市   | Beijing      | 110000 | 北京市 | Beijing | Tier 1     | 39.91092 | 116.4134 | 2153.60 | 35371.30 | ... | 559 | 565 | 569 | 572 | 576 | 577 | 580 | 580 | 582 | 0 |\n",
       "| 天津市   | Tianjin      | 120000 | 天津市 | Tianjin | new Tier 1 | 39.09367 | 117.2095 | 1561.83 | 14104.00 | ... | 145 | 147 | 152 | 156 | 163 | 166 | 174 | 174 | 176 | 0 |\n",
       "| 石家庄市 | Shijiazhuang | 130100 | 河北省 | Hebei   | Tier 2     | 38.04831 | 114.5215 | 1039.42 |  5809.90 | ... |  29 |  29 |  29 |  29 |  29 |  29 |  29 |  29 |  29 | 0 |\n",
       "| 唐山市   | Tangshan     | 130200 | 河北省 | Hebei   | Tier 3     | 39.63658 | 118.1865 |  796.40 |  6890.00 | ... |  58 |  58 |  58 |  58 |  58 |  58 |  58 |  58 |  58 | 0 |\n",
       "| 秦皇岛市 | Qinhuangdao  | 130300 | 河北省 | Hebei   | Tier 3     | 39.94175 | 119.6085 |  314.63 |  1612.02 | ... |  10 |  10 |  10 |  10 |  10 |  10 |  10 |  10 |  10 | 0 |\n",
       "| 邯郸市   | Handan       | 130400 | 河北省 | Hebei   | Tier 3     | 36.63126 | 114.5456 |  954.97 |  3486.00 | ... |  32 |  32 |  32 |  32 |  32 |  32 |  32 |  32 |  32 | 0 |\n",
       "\n"
      ],
      "text/plain": [
       "  city_cn  city         city_id province_cn province tier       lat     \n",
       "1 北京市   Beijing      110000  北京市      Beijing  Tier 1     39.91092\n",
       "2 天津市   Tianjin      120000  天津市      Tianjin  new Tier 1 39.09367\n",
       "3 石家庄市 Shijiazhuang 130100  河北省      Hebei    Tier 2     38.04831\n",
       "4 唐山市   Tangshan     130200  河北省      Hebei    Tier 3     39.63658\n",
       "5 秦皇岛市 Qinhuangdao  130300  河北省      Hebei    Tier 3     39.94175\n",
       "6 邯郸市   Handan       130400  河北省      Hebei    Tier 3     36.63126\n",
       "  lng      population GDP      ... date_0324 date_0325 date_0326 date_0327\n",
       "1 116.4134 2153.60    35371.30 ... 559       565       569       572      \n",
       "2 117.2095 1561.83    14104.00 ... 145       147       152       156      \n",
       "3 114.5215 1039.42     5809.90 ...  29        29        29        29      \n",
       "4 118.1865  796.40     6890.00 ...  58        58        58        58      \n",
       "5 119.6085  314.63     1612.02 ...  10        10        10        10      \n",
       "6 114.5456  954.97     3486.00 ...  32        32        32        32      \n",
       "  date_0328 date_0329 date_0330 date_0331 date_0401 hubei_city\n",
       "1 576       577       580       580       582       0         \n",
       "2 163       166       174       174       176       0         \n",
       "3  29        29        29        29        29       0         \n",
       "4  58        58        58        58        58       0         \n",
       "5  10        10        10        10        10       0         \n",
       "6  32        32        32        32        32       0         "
      ]
     },
     "metadata": {},
     "output_type": "display_data"
    }
   ],
   "source": [
    "head(reg_df)"
   ]
  },
  {
   "cell_type": "code",
   "execution_count": 4,
   "metadata": {},
   "outputs": [],
   "source": [
    "# filter Wuhan\n",
    "reg_df <- reg_df %>% \n",
    "            filter(city != 'Wuhan')"
   ]
  },
  {
   "cell_type": "code",
   "execution_count": 5,
   "metadata": {},
   "outputs": [
    {
     "data": {
      "text/html": [
       "<ol class=list-inline>\n",
       "\t<li>365</li>\n",
       "\t<li>97</li>\n",
       "</ol>\n"
      ],
      "text/latex": [
       "\\begin{enumerate*}\n",
       "\\item 365\n",
       "\\item 97\n",
       "\\end{enumerate*}\n"
      ],
      "text/markdown": [
       "1. 365\n",
       "2. 97\n",
       "\n",
       "\n"
      ],
      "text/plain": [
       "[1] 365  97"
      ]
     },
     "metadata": {},
     "output_type": "display_data"
    }
   ],
   "source": [
    "dim(reg_df)"
   ]
  },
  {
   "cell_type": "code",
   "execution_count": null,
   "metadata": {},
   "outputs": [],
   "source": []
  },
  {
   "cell_type": "markdown",
   "metadata": {},
   "source": [
    "### <div class=\"alert alert-block alert-success\"> Regression Analysis </div>\n",
    "### Spatial Spread of COVID-19"
   ]
  },
  {
   "cell_type": "markdown",
   "metadata": {},
   "source": [
    "* OLS Regression\n",
    "* Negative Binomial Regression\n",
    "\n",
    "Regressions are performed in both Python and R. This tutorial presents R implimentations. See 'Figure2-spatial analysis and plot.ipynb' for Python implimentations."
   ]
  },
  {
   "cell_type": "code",
   "execution_count": null,
   "metadata": {},
   "outputs": [],
   "source": []
  },
  {
   "cell_type": "markdown",
   "metadata": {},
   "source": [
    "#### OLS Regression\n",
    "log_cumulative_cases ~ log_local_flow + log_pagerank + log_population + log_distance + mean_intensity + city_tier1 + city_tier2 + city_tier3 + city_tier4"
   ]
  },
  {
   "cell_type": "code",
   "execution_count": 6,
   "metadata": {},
   "outputs": [
    {
     "data": {
      "text/plain": [
       "\n",
       "Call:\n",
       "lm(formula = log_cumulative_cases ~ log_local_flow + log_pagerank + \n",
       "    log_population + log_distance + mean_intensity + city_tier1 + \n",
       "    city_tier2 + city_tier3 + city_tier4, data = reg_df %>% mutate(log_cumulative_cases = log(cumulative_cases + \n",
       "    1)) %>% mutate(log_local_flow = log(local_flow + 1)) %>% \n",
       "    mutate(log_pagerank = log(pagerank)) %>% mutate(log_population = log(population)) %>% \n",
       "    mutate(log_distance = log(distance + 1)))\n",
       "\n",
       "Residuals:\n",
       "     Min       1Q   Median       3Q      Max \n",
       "-2.34376 -0.42763 -0.00446  0.35829  2.50113 \n",
       "\n",
       "Coefficients:\n",
       "                Estimate Std. Error t value Pr(>|t|)    \n",
       "(Intercept)    -1.271233   1.456934  -0.873 0.383505    \n",
       "log_local_flow  0.818665   0.060912  13.440  < 2e-16 ***\n",
       "log_pagerank   -0.228125   0.111730  -2.042 0.041917 *  \n",
       "log_population  0.241025   0.063239   3.811 0.000163 ***\n",
       "log_distance   -0.172071   0.100267  -1.716 0.087014 .  \n",
       "mean_intensity  0.090084   0.054868   1.642 0.101515    \n",
       "city_tier1      0.580346   0.225832   2.570 0.010584 *  \n",
       "city_tier2      0.478579   0.163845   2.921 0.003714 ** \n",
       "city_tier3      0.204849   0.125294   1.635 0.102949    \n",
       "city_tier4      0.005688   0.107297   0.053 0.957753    \n",
       "---\n",
       "Signif. codes:  0 '***' 0.001 '**' 0.01 '*' 0.05 '.' 0.1 ' ' 1\n",
       "\n",
       "Residual standard error: 0.6695 on 354 degrees of freedom\n",
       "  (1 observation deleted due to missingness)\n",
       "Multiple R-squared:  0.8319,\tAdjusted R-squared:  0.8276 \n",
       "F-statistic: 194.7 on 9 and 354 DF,  p-value: < 2.2e-16\n"
      ]
     },
     "metadata": {},
     "output_type": "display_data"
    }
   ],
   "source": [
    "# cases on '2020-02-09'\n",
    "\n",
    "reg_df$cumulative_cases <- reg_df$date_0209\n",
    "\n",
    "# ==============\n",
    "# ols regression\n",
    "\n",
    "ols_model <- lm(log_cumulative_cases ~ log_local_flow + \n",
    "                    log_pagerank + \n",
    "                    log_population + \n",
    "                    log_distance + \n",
    "                    mean_intensity + \n",
    "                    city_tier1 + city_tier2 + city_tier3 + city_tier4, \n",
    "              data = reg_df %>% \n",
    "                    mutate(log_cumulative_cases = log(cumulative_cases + 1)) %>%\n",
    "                    mutate(log_local_flow = log(local_flow + 1)) %>%\n",
    "                    mutate(log_pagerank = log(pagerank)) %>%\n",
    "                    mutate(log_population = log(population)) %>%\n",
    "                    mutate(log_distance = log(distance + 1)),\n",
    "            )    #identity link, OLS\n",
    "\n",
    "summary(ols_model)"
   ]
  },
  {
   "cell_type": "code",
   "execution_count": null,
   "metadata": {},
   "outputs": [],
   "source": []
  },
  {
   "cell_type": "code",
   "execution_count": null,
   "metadata": {},
   "outputs": [],
   "source": []
  },
  {
   "cell_type": "markdown",
   "metadata": {},
   "source": [
    "#### Negative Binomial Regression\n",
    "cumulative_cases ~ exp(log_local_flow + log_pagerank + log_population + log_distance + mean_intensity + city_tier1 + city_tier2 + city_tier3 + city_tier4)"
   ]
  },
  {
   "cell_type": "code",
   "execution_count": 7,
   "metadata": {},
   "outputs": [
    {
     "data": {
      "text/plain": [
       "\n",
       "Call:\n",
       "glm.nb(formula = cumulative_cases ~ log_local_flow + log_pagerank + \n",
       "    log_population + log_distance + mean_intensity + city_tier1 + \n",
       "    city_tier2 + city_tier3 + city_tier4, data = reg_df %>% mutate(log_cumulative_cases = log(cumulative_cases + \n",
       "    1)) %>% mutate(log_local_flow = log(local_flow + 1)) %>% \n",
       "    mutate(log_pagerank = log(pagerank)) %>% mutate(log_population = log(population)) %>% \n",
       "    mutate(log_distance = log(distance + 1)), init.theta = 2.249561936, \n",
       "    link = log)\n",
       "\n",
       "Deviance Residuals: \n",
       "    Min       1Q   Median       3Q      Max  \n",
       "-2.9110  -0.9914  -0.3612   0.2851   4.6693  \n",
       "\n",
       "Coefficients:\n",
       "                Estimate Std. Error z value Pr(>|z|)    \n",
       "(Intercept)    -3.638971   1.632921  -2.229  0.02585 *  \n",
       "log_local_flow  0.833505   0.065673  12.692  < 2e-16 ***\n",
       "log_pagerank   -0.397239   0.121905  -3.259  0.00112 ** \n",
       "log_population  0.412455   0.076828   5.369 7.94e-08 ***\n",
       "log_distance   -0.141796   0.111713  -1.269  0.20434    \n",
       "mean_intensity  0.160380   0.068116   2.355  0.01855 *  \n",
       "city_tier1      0.339560   0.239603   1.417  0.15643    \n",
       "city_tier2      0.380612   0.173865   2.189  0.02859 *  \n",
       "city_tier3      0.001794   0.136485   0.013  0.98951    \n",
       "city_tier4     -0.156688   0.118399  -1.323  0.18571    \n",
       "---\n",
       "Signif. codes:  0 '***' 0.001 '**' 0.01 '*' 0.05 '.' 0.1 ' ' 1\n",
       "\n",
       "(Dispersion parameter for Negative Binomial(2.2496) family taken to be 1)\n",
       "\n",
       "    Null deviance: 2528.5  on 363  degrees of freedom\n",
       "Residual deviance:  433.1  on 354  degrees of freedom\n",
       "  (1 observation deleted due to missingness)\n",
       "AIC: 2736.5\n",
       "\n",
       "Number of Fisher Scoring iterations: 1\n",
       "\n",
       "\n",
       "              Theta:  2.250 \n",
       "          Std. Err.:  0.216 \n",
       "\n",
       " 2 x log-likelihood:  -2714.452 "
      ]
     },
     "metadata": {},
     "output_type": "display_data"
    }
   ],
   "source": [
    "# negative Binomial model\n",
    "# in the MASS package\n",
    "\n",
    "# cases on '2020-02-09'\n",
    "reg_df$cumulative_cases <- reg_df$date_0209\n",
    "\n",
    "negb_model <- glm.nb(cumulative_cases ~ \n",
    "                    log_local_flow + \n",
    "                    log_pagerank + \n",
    "                    log_population + \n",
    "                    log_distance + \n",
    "                    mean_intensity + \n",
    "                    city_tier1 + city_tier2 + city_tier3 + city_tier4, \n",
    "              data = reg_df %>% \n",
    "                    mutate(log_cumulative_cases = log(cumulative_cases + 1)) %>%\n",
    "                    mutate(log_local_flow = log(local_flow + 1)) %>%\n",
    "                    mutate(log_pagerank = log(pagerank)) %>%\n",
    "                    mutate(log_population = log(population)) %>%\n",
    "                    mutate(log_distance = log(distance + 1)),\n",
    "                   )\n",
    "\n",
    "summary(negb_model)"
   ]
  },
  {
   "cell_type": "code",
   "execution_count": null,
   "metadata": {},
   "outputs": [],
   "source": []
  },
  {
   "cell_type": "markdown",
   "metadata": {},
   "source": [
    "**parameter $\\alpha$/alpha in Python implemented Negative Binomial Regression**"
   ]
  },
  {
   "cell_type": "code",
   "execution_count": 8,
   "metadata": {},
   "outputs": [
    {
     "data": {
      "text/html": [
       "0.444530992433666"
      ],
      "text/latex": [
       "0.444530992433666"
      ],
      "text/markdown": [
       "0.444530992433666"
      ],
      "text/plain": [
       "[1] 0.444531"
      ]
     },
     "metadata": {},
     "output_type": "display_data"
    }
   ],
   "source": [
    "1/negb_model$theta"
   ]
  },
  {
   "cell_type": "code",
   "execution_count": null,
   "metadata": {},
   "outputs": [],
   "source": []
  },
  {
   "cell_type": "code",
   "execution_count": null,
   "metadata": {},
   "outputs": [],
   "source": []
  },
  {
   "cell_type": "markdown",
   "metadata": {},
   "source": [
    "### Hierarchical regression analysis"
   ]
  },
  {
   "cell_type": "code",
   "execution_count": 9,
   "metadata": {},
   "outputs": [],
   "source": [
    "# Hierarchical OLS\n",
    "# --------------\n",
    "\n",
    "tmp_df <- reg_df %>% drop_na(c('local_flow', 'population', 'pagerank'))\n",
    "\n",
    "tmp_df <- tmp_df %>%\n",
    "                mutate(log_cumulative_cases = log(cumulative_cases + 1)) %>%\n",
    "                mutate(log_local_flow = log(local_flow + 1)) %>%\n",
    "                mutate(log_pagerank = log(pagerank)) %>%\n",
    "                mutate(log_population = log(population))\n",
    "\n",
    "\n",
    "# cases on '2020-02-09'\n",
    "reg_df$cumulative_cases <- reg_df$date_0209\n",
    "\n",
    "\n",
    "lm1 <- lm(log_cumulative_cases ~ log_local_flow,\n",
    "              data = tmp_df\n",
    "         )\n",
    "\n",
    "\n",
    "lm2 <- lm(log_cumulative_cases ~ log_population,\n",
    "              data = tmp_df\n",
    "         )\n",
    "\n",
    "\n",
    "lm3 <- lm(log_cumulative_cases ~ log_pagerank,\n",
    "              data = tmp_df\n",
    "         )\n",
    "\n",
    "\n",
    "lm4 <- lm(log_cumulative_cases ~ log_local_flow + log_pagerank + log_population,\n",
    "              data = tmp_df\n",
    "         )\n"
   ]
  },
  {
   "cell_type": "code",
   "execution_count": 10,
   "metadata": {},
   "outputs": [
    {
     "name": "stdout",
     "output_type": "stream",
     "text": [
      "\n",
      "\\begin{table}\n",
      "\\begin{center}\n",
      "\\begin{tabular}{l c c c c}\n",
      "\\hline\n",
      " & Model 1 & Model 2 & Model 3 & Model 4 \\\\\n",
      "\\hline\n",
      "(Intercept)      & $0.45^{***}$ & $-2.94^{***}$ & $12.43^{***}$ & $-2.33^{**}$ \\\\\n",
      "                 & $(0.07)$     & $(0.34)$      & $(0.63)$      & $(0.86)$     \\\\\n",
      "log\\_local\\_flow & $1.01^{***}$ &               &               & $0.93^{***}$ \\\\\n",
      "                 & $(0.03)$     &               &               & $(0.03)$     \\\\\n",
      "log\\_population  &              & $1.01^{***}$  &               & $0.31^{***}$ \\\\\n",
      "                 &              & $(0.06)$      &               & $(0.06)$     \\\\\n",
      "log\\_pagerank    &              &               & $1.59^{***}$  & $-0.20^{*}$  \\\\\n",
      "                 &              &               & $(0.10)$      & $(0.10)$     \\\\\n",
      "\\hline\n",
      "R$^2$            & $0.81$       & $0.43$        & $0.40$        & $0.82$       \\\\\n",
      "Adj. R$^2$       & $0.81$       & $0.43$        & $0.40$        & $0.82$       \\\\\n",
      "Num. obs.        & $364$        & $364$         & $364$         & $364$        \\\\\n",
      "\\hline\n",
      "\\multicolumn{5}{l}{\\scriptsize{$^{***}p<0.001$; $^{**}p<0.01$; $^{*}p<0.05$}}\n",
      "\\end{tabular}\n",
      "\\caption{Statistical models}\n",
      "\\label{table:coefficients}\n",
      "\\end{center}\n",
      "\\end{table}\n"
     ]
    }
   ],
   "source": [
    "print(texreg(list(lm1, lm2, lm3, lm4)))"
   ]
  },
  {
   "cell_type": "code",
   "execution_count": null,
   "metadata": {},
   "outputs": [],
   "source": []
  },
  {
   "cell_type": "code",
   "execution_count": 11,
   "metadata": {},
   "outputs": [],
   "source": [
    "# Hierarchical Negative Binomial\n",
    "# --------------\n",
    "\n",
    "tmp_df <- reg_df %>% drop_na(c('local_flow', 'population', 'pagerank'))\n",
    "\n",
    "tmp_df <- tmp_df %>%\n",
    "#                 mutate(log_cumulative_cases = log(cumulative_cases + 1)) %>%\n",
    "                mutate(log_local_flow = log(local_flow + 1)) %>%\n",
    "                mutate(log_pagerank = log(pagerank)) %>%\n",
    "                mutate(log_population = log(population))\n",
    "\n",
    "\n",
    "nbm1 <- glm.nb(cumulative_cases ~ log_local_flow,\n",
    "               data = tmp_df\n",
    "               )\n",
    "\n",
    "nbm2 <- glm.nb(cumulative_cases ~ log_population,\n",
    "              data = tmp_df\n",
    "               )\n",
    "\n",
    "nbm3 <- glm.nb(cumulative_cases ~ log_pagerank,\n",
    "               data = tmp_df\n",
    "               )\n",
    "\n",
    "\n",
    "nbm4 <- glm.nb(cumulative_cases ~ log_local_flow + log_population + log_pagerank,\n",
    "               data = tmp_df\n",
    "               )\n"
   ]
  },
  {
   "cell_type": "code",
   "execution_count": 12,
   "metadata": {},
   "outputs": [
    {
     "name": "stdout",
     "output_type": "stream",
     "text": [
      "\n",
      "\\begin{table}\n",
      "\\begin{center}\n",
      "\\begin{tabular}{l c c c c}\n",
      "\\hline\n",
      " & Model 1 & Model 2 & Model 3 & Model 4 \\\\\n",
      "\\hline\n",
      "(Intercept)      & $0.68^{***}$ & $-1.66^{***}$ & $14.37^{***}$ & $-3.96^{***}$ \\\\\n",
      "                 & $(0.08)$     & $(0.45)$      & $(0.79)$      & $(0.97)$      \\\\\n",
      "log\\_local\\_flow & $0.99^{***}$ &               &               & $0.91^{***}$  \\\\\n",
      "                 & $(0.03)$     &               &               & $(0.04)$      \\\\\n",
      "log\\_population  &              & $0.99^{***}$  &               & $0.45^{***}$  \\\\\n",
      "                 &              & $(0.08)$      &               & $(0.07)$      \\\\\n",
      "log\\_pagerank    &              &               & $1.72^{***}$  & $-0.37^{***}$ \\\\\n",
      "                 &              &               & $(0.13)$      & $(0.11)$      \\\\\n",
      "\\hline\n",
      "AIC              & $2780.61$    & $3310.38$     & $3306.88$     & $2741.73$     \\\\\n",
      "BIC              & $2792.30$    & $3322.07$     & $3318.57$     & $2761.22$     \\\\\n",
      "Log Likelihood   & $-1387.30$   & $-1652.19$    & $-1650.44$    & $-1365.87$    \\\\\n",
      "Deviance         & $439.28$     & $443.56$      & $443.39$      & $435.76$      \\\\\n",
      "Num. obs.        & $364$        & $364$         & $364$         & $364$         \\\\\n",
      "\\hline\n",
      "\\multicolumn{5}{l}{\\scriptsize{$^{***}p<0.001$; $^{**}p<0.01$; $^{*}p<0.05$}}\n",
      "\\end{tabular}\n",
      "\\caption{Statistical models}\n",
      "\\label{table:coefficients}\n",
      "\\end{center}\n",
      "\\end{table}\n"
     ]
    }
   ],
   "source": [
    "print(texreg(list(nbm1, nbm2, nbm3, nbm4)))"
   ]
  },
  {
   "cell_type": "code",
   "execution_count": null,
   "metadata": {},
   "outputs": [],
   "source": []
  },
  {
   "cell_type": "code",
   "execution_count": null,
   "metadata": {},
   "outputs": [],
   "source": []
  },
  {
   "cell_type": "code",
   "execution_count": null,
   "metadata": {},
   "outputs": [],
   "source": []
  },
  {
   "cell_type": "code",
   "execution_count": null,
   "metadata": {},
   "outputs": [],
   "source": []
  }
 ],
 "metadata": {
  "kernelspec": {
   "display_name": "R",
   "language": "R",
   "name": "ir"
  },
  "language_info": {
   "codemirror_mode": "r",
   "file_extension": ".r",
   "mimetype": "text/x-r-source",
   "name": "R",
   "pygments_lexer": "r",
   "version": "3.5.3"
  }
 },
 "nbformat": 4,
 "nbformat_minor": 2
}
